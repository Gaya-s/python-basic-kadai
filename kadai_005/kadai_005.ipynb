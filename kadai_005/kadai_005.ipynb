{
  "nbformat": 4,
  "nbformat_minor": 0,
  "metadata": {
    "colab": {
      "provenance": []
    },
    "kernelspec": {
      "name": "python3",
      "display_name": "Python 3"
    },
    "language_info": {
      "name": "python"
    }
  },
  "cells": [
    {
      "cell_type": "code",
      "execution_count": 1,
      "metadata": {
        "colab": {
          "base_uri": "https://localhost:8080/"
        },
        "id": "CvD0BNG1Hm-e",
        "outputId": "6a61252d-b32d-4ad8-fa05-1c8b0a2a25d8"
      },
      "outputs": [
        {
          "output_type": "stream",
          "name": "stdout",
          "text": [
            "50.0cm²\n"
          ]
        }
      ],
      "source": [
        "# 台形の上辺と下辺、高さを定義\n",
        "upmost = 10\n",
        "down = 10\n",
        "high = 5\n",
        "\n",
        "# 台形の面積を計算\n",
        "area = (upmost + down) * high / 2\n",
        "\n",
        "# 面積の表示\n",
        "print(str(area) + \"cm²\")"
      ]
    }
  ]
}