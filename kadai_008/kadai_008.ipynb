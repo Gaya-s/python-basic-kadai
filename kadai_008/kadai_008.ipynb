{
  "nbformat": 4,
  "nbformat_minor": 0,
  "metadata": {
    "colab": {
      "provenance": []
    },
    "kernelspec": {
      "name": "python3",
      "display_name": "Python 3"
    },
    "language_info": {
      "name": "python"
    }
  },
  "cells": [
    {
      "cell_type": "code",
      "source": [
        "ver = 3\n",
        "\n",
        "if ver % 3 == 0 and ver % 5 == 0:\n",
        "    print(\"FizzBuzz\")\n",
        "elif ver % 3 == 0:\n",
        "    print(\"Fizz\")\n",
        "elif ver % 5 == 0:\n",
        "    print(\"Buzz\")\n",
        "else:\n",
        "    print(ver)"
      ],
      "metadata": {
        "colab": {
          "base_uri": "https://localhost:8080/"
        },
        "id": "7QdC1ROR-K0H",
        "outputId": "929c148c-4490-4d44-faad-087ea5ad0ecc"
      },
      "execution_count": 14,
      "outputs": [
        {
          "output_type": "stream",
          "name": "stdout",
          "text": [
            "Fizz\n"
          ]
        }
      ]
    }
  ]
}