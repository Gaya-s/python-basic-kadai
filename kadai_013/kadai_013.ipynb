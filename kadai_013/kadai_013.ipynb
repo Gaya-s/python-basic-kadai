{
  "nbformat": 4,
  "nbformat_minor": 0,
  "metadata": {
    "colab": {
      "provenance": []
    },
    "kernelspec": {
      "name": "python3",
      "display_name": "Python 3"
    },
    "language_info": {
      "name": "python"
    }
  },
  "cells": [
    {
      "cell_type": "code",
      "execution_count": 1,
      "metadata": {
        "colab": {
          "base_uri": "https://localhost:8080/"
        },
        "id": "f6khXTZi3lKF",
        "outputId": "98c031d8-3fba-409d-d985-5b4ccbe3babd"
      },
      "outputs": [
        {
          "output_type": "stream",
          "name": "stdout",
          "text": [
            "121.0\n"
          ]
        }
      ],
      "source": [
        "def total_price(price, tax):\n",
        "    tax = price * 0.1\n",
        "    total_price = price + tax\n",
        "    print(total_price)\n",
        "\n",
        "total_price(110, 10)"
      ]
    }
  ]
}