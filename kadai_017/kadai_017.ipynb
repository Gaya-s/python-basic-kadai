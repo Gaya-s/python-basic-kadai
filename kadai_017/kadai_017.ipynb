{
  "nbformat": 4,
  "nbformat_minor": 0,
  "metadata": {
    "colab": {
      "provenance": []
    },
    "kernelspec": {
      "name": "python3",
      "display_name": "Python 3"
    },
    "language_info": {
      "name": "python"
    }
  },
  "cells": [
    {
      "cell_type": "code",
      "execution_count": 2,
      "metadata": {
        "colab": {
          "base_uri": "https://localhost:8080/"
        },
        "id": "mmPa6WN3Vd0c",
        "outputId": "da91ef57-3b99-4371-db24-af98dfbd16ef"
      },
      "outputs": [
        {
          "output_type": "stream",
          "name": "stdout",
          "text": [
            "侍太郎 is an adult.\n",
            "侍次郎 is not an adult.\n",
            "侍花子 is an adult.\n"
          ]
        }
      ],
      "source": [
        "class Human:\n",
        "    def __init__(self, name, age):\n",
        "        self.name = name\n",
        "        self.age = age\n",
        "\n",
        "    def check_adult(self):\n",
        "        if self.age >= 18:\n",
        "            return f\"{self.name} is an adult.\"\n",
        "        else:\n",
        "            return f\"{self.name} is not an adult.\"\n",
        "\n",
        "# Humanクラスのインスタンスを生成\n",
        "person1 = Human(\"侍太郎\", 36)\n",
        "person2 = Human(\"侍次郎\", 17)\n",
        "person3 = Human(\"侍花子\", 30)\n",
        "\n",
        "# インスタンスをリストに追加\n",
        "people_list = [person1, person2, person3]\n",
        "\n",
        "# リストの要素数分だけcheck_adultメソッドを呼び出す\n",
        "for person in people_list:\n",
        "    print(person.check_adult())"
      ]
    }
  ]
}